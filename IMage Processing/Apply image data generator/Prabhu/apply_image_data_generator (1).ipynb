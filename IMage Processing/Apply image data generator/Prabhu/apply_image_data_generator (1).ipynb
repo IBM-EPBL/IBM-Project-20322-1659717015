{
  "nbformat": 4,
  "nbformat_minor": 0,
  "metadata": {
    "colab": {
      "provenance": []
    },
    "kernelspec": {
      "name": "python3",
      "display_name": "Python 3"
    },
    "language_info": {
      "name": "python"
    }
  },
  "cells": [
    {
      "cell_type": "code",
      "execution_count": null,
      "metadata": {
        "id": "n6nkOV_IxwJI"
      },
      "outputs": [],
      "source": [
        "tf.keras.preprocessing.image_dataset_from_directory(\n",
        "    directory,\n",
        "    labels=\"inferred\",\n",
        "    label_mode=\"int\",\n",
        "    class_names=None,\n",
        "    color_mode=\"rgb\",\n",
        "    batch_size=32,\n",
        "    image_size=(256, 256),\n",
        "    shuffle=True,\n",
        "    seed=None,\n",
        "    validation_split=None,\n",
        "    subset=None,\n",
        "    interpolation=\"bilinear\",\n",
        "    follow_links=False,\n",
        "    crop_to_aspect_ratio=False,\n",
        "    **kwargs\n",
        ")\n"
      ]
    },
    {
      "cell_type": "code",
      "source": [
        "x_train = train_datagen.flow_from_directory('dataset/training set', target_size=(64,64), batch_size=300, class_mode='categorical', color_mode = \"grayscale\")"
      ],
      "metadata": {
        "id": "yqLPqTyp1UAV"
      },
      "execution_count": null,
      "outputs": []
    },
    {
      "cell_type": "code",
      "source": [
        "x_test = test_datagen.flow_from_directory('dataset/test_set', target_size=(64,64), batch_size=300, class_mode='categorical, color_mode = \"grayscale\")"
      ],
      "metadata": {
        "id": "hPYKmNW11Wy2"
      },
      "execution_count": null,
      "outputs": []
    }
  ]
}