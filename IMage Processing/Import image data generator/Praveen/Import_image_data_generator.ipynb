{
  "nbformat": 4,
  "nbformat_minor": 0,
  "metadata": {
    "colab": {
      "provenance": []
    },
    "kernelspec": {
      "name": "python3",
      "display_name": "Python 3"
    },
    "language_info": {
      "name": "python"
    }
  },
  "cells": [
    {
      "cell_type": "code",
      "execution_count": null,
      "metadata": {
        "id": "bV1tol2c5VEz"
      },
      "outputs": [],
      "source": [
        "from keras.preprocessing.image import ImageDataGenerator train_datagen ImageDataGenerator(rescale = 1./255, shear_range=0.2, zoom_range=0.2, horizontal_flip=True) test_datagen ImageDataGenerator (rescale = 1./255)"
      ]
    }
  ]
}