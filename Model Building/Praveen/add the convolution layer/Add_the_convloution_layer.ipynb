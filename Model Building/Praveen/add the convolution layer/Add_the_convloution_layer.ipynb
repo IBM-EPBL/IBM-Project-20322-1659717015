{
  "nbformat": 4,
  "nbformat_minor": 0,
  "metadata": {
    "colab": {
      "provenance": []
    },
    "kernelspec": {
      "name": "python3",
      "display_name": "Python 3"
    },
    "language_info": {
      "name": "python"
    }
  },
  "cells": [
    {
      "cell_type": "code",
      "source": [
        "model.add(Convolution 2D (32, (3,3), input_shape=(64,64,1), activation 'relu')) = #no. of feature detectors, size of featuredetector, image size, activation function"
      ],
      "metadata": {
        "id": "sTSluBAH7WjG"
      },
      "execution_count": null,
      "outputs": []
    }
  ]
}