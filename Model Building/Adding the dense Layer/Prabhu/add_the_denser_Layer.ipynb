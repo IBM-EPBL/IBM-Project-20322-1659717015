{
  "nbformat": 4,
  "nbformat_minor": 0,
  "metadata": {
    "colab": {
      "provenance": []
    },
    "kernelspec": {
      "name": "python3",
      "display_name": "Python 3"
    },
    "language_info": {
      "name": "python"
    }
  },
  "cells": [
    {
      "cell_type": "code",
      "source": [
        "model.add(Dense (units=512, activation='relu'))\n",
        "model.add(Dense (units=9, activation='softmax'))"
      ],
      "metadata": {
        "id": "Fp29coOs2f83"
      },
      "execution_count": null,
      "outputs": []
    }
  ]
}