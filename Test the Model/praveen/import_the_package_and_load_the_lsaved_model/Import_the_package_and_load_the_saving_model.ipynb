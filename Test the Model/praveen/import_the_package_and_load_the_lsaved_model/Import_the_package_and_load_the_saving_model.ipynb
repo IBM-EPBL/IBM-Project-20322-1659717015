{
  "nbformat": 4,
  "nbformat_minor": 0,
  "metadata": {
    "colab": {
      "provenance": []
    },
    "kernelspec": {
      "name": "python3",
      "display_name": "Python 3"
    },
    "language_info": {
      "name": "python"
    }
  },
  "cells": [
    {
      "cell_type": "code",
      "source": [
        "from keras.models import load_model import numpy as np import cv2"
      ],
      "metadata": {
        "id": "lo7u5yiZAUIn"
      },
      "execution_count": null,
      "outputs": []
    }
  ]
}