{
  "nbformat": 4,
  "nbformat_minor": 0,
  "metadata": {
    "colab": {
      "provenance": []
    },
    "kernelspec": {
      "name": "python3",
      "display_name": "Python 3"
    },
    "language_info": {
      "name": "python"
    }
  },
  "cells": [
    {
      "cell_type": "code",
      "source": [
        "import cv2 import numpy as np image =cv2.imread('C:\\\\Users\\\\Admin\\\\Desktop\\\\Untitled Folder\\\\1.jpg') cv2.namedWindow('image',cv2.WINDOW_AUTOSIZE) cv2.imshow('image',image) cv2.waitKey(0) cv2.destroyAllWindows()"
      ],
      "metadata": {
        "id": "7np6RFKX8W-W"
      },
      "execution_count": null,
      "outputs": []
    }
  ]
}